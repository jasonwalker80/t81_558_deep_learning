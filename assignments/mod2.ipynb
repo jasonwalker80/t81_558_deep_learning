{
 "cells": [
  {
   "cell_type": "code",
   "execution_count": 8,
   "metadata": {},
   "outputs": [
    {
     "name": "stdout",
     "output_type": "stream",
     "text": [
      "    mpg  cylinders  displacement horsepower  weight  acceleration  year  \\\n",
      "0  18.0          8         307.0        130    3504          12.0    70   \n",
      "1  15.0          8         350.0        165    3693          11.5    70   \n",
      "2  18.0          8         318.0        150    3436          11.0    70   \n",
      "3  16.0          8         304.0        150    3433          12.0    70   \n",
      "4  17.0          8         302.0        140    3449          10.5    70   \n",
      "\n",
      "   origin                       name  \n",
      "0       1  chevrolet chevelle malibu  \n",
      "1       1          buick skylark 320  \n",
      "2       1         plymouth satellite  \n",
      "3       1              amc rebel sst  \n",
      "4       1                ford torino  \n"
     ]
    }
   ],
   "source": [
    "import os\n",
    "import pandas as pd\n",
    "\n",
    "path = '../data/'\n",
    "filename_read = os.path.join(path,'auto-mpg.csv')\n",
    "\n",
    "df = pd.read_csv(filename_read)\n",
    "print(df[0:5])"
   ]
  },
  {
   "cell_type": "code",
   "execution_count": 11,
   "metadata": {},
   "outputs": [
    {
     "name": "stdout",
     "output_type": "stream",
     "text": [
      "    mpg  cylinders  displacement  weight  acceleration  year  origin\n",
      "0  18.0          8         307.0    3504          12.0    70       1\n",
      "1  15.0          8         350.0    3693          11.5    70       1\n",
      "2  18.0          8         318.0    3436          11.0    70       1\n",
      "3  16.0          8         304.0    3433          12.0    70       1\n",
      "4  17.0          8         302.0    3449          10.5    70       1\n"
     ]
    },
    {
     "data": {
      "text/plain": [
       "[{'mean': 23.514572864321615,\n",
       "  'name': 'mpg',\n",
       "  'sdev': 7.815984312565782,\n",
       "  'var': 61.089610774274405},\n",
       " {'mean': 5.454773869346734,\n",
       "  'name': 'cylinders',\n",
       "  'sdev': 1.7010042445332094,\n",
       "  'var': 2.8934154399199943},\n",
       " {'mean': 193.42587939698493,\n",
       "  'name': 'displacement',\n",
       "  'sdev': 104.26983817119581,\n",
       "  'var': 10872.199152247364},\n",
       " {'mean': 2970.424623115578,\n",
       "  'name': 'weight',\n",
       "  'sdev': 846.8417741973271,\n",
       "  'var': 717140.9905256768},\n",
       " {'mean': 15.568090452261291,\n",
       "  'name': 'acceleration',\n",
       "  'sdev': 2.7576889298126757,\n",
       "  'var': 7.604848233611381},\n",
       " {'mean': 76.01005025125629,\n",
       "  'name': 'year',\n",
       "  'sdev': 3.697626646732623,\n",
       "  'var': 13.672442818627143},\n",
       " {'mean': 1.5728643216080402,\n",
       "  'name': 'origin',\n",
       "  'sdev': 0.8020548777266163,\n",
       "  'var': 0.6432920268850575}]"
      ]
     },
     "execution_count": 11,
     "metadata": {},
     "output_type": "execute_result"
    }
   ],
   "source": [
    "df = df.select_dtypes(include=['int', 'float'])\n",
    "\n",
    "print(df[0:5])\n",
    "\n",
    "headers = list(df.columns.values)\n",
    "fields = []\n",
    "\n",
    "for field in headers:\n",
    "    fields.append( {\n",
    "        'name' : field,\n",
    "        'mean' : df[field].mean(),\n",
    "        'var' : df[field].var(),\n",
    "        'sdev' : df[field].std()\n",
    "    })\n",
    "for field in fields"
   ]
  },
  {
   "cell_type": "code",
   "execution_count": 7,
   "metadata": {
    "collapsed": true
   },
   "outputs": [],
   "source": []
  },
  {
   "cell_type": "code",
   "execution_count": null,
   "metadata": {
    "collapsed": true
   },
   "outputs": [],
   "source": []
  }
 ],
 "metadata": {
  "kernelspec": {
   "display_name": "Python 3",
   "language": "python",
   "name": "python3"
  },
  "language_info": {
   "codemirror_mode": {
    "name": "ipython",
    "version": 3
   },
   "file_extension": ".py",
   "mimetype": "text/x-python",
   "name": "python",
   "nbconvert_exporter": "python",
   "pygments_lexer": "ipython3",
   "version": "3.6.3"
  }
 },
 "nbformat": 4,
 "nbformat_minor": 2
}
